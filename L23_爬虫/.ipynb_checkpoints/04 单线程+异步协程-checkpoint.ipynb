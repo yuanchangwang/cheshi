{
 "cells": [
  {
   "cell_type": "markdown",
   "metadata": {},
   "source": [
    "### 提升requests模块的爬取效率\n",
    "\n",
    "- 多线程和多进程(不建议使用)\n",
    "- 线程池和进程池(适当使用)\n",
    "- 单线程+异步协程(推荐使用)"
   ]
  },
  {
   "cell_type": "code",
   "execution_count": 9,
   "metadata": {},
   "outputs": [
    {
     "data": {
      "text/plain": [
       "[None, None, None, None]"
      ]
     },
     "execution_count": 9,
     "metadata": {},
     "output_type": "execute_result"
    }
   ],
   "source": [
    "import re\n",
    "import random\n",
    "import requests\n",
    "from lxml import etree\n",
    "from multiprocessing.dummy import Pool\n",
    "\n",
    "url = \"https://www.pearvideo.com/category_31\"\n",
    "headers = {\n",
    "    \"User-Agent\": \"Mozilla/5.0 (Windows NT 10.0; Win64; x64) AppleWebKit/537.36 (KHTML, like Gecko) Chrome/73.0.3683.75 Safari/537.36\"\n",
    "}\n",
    "\n",
    "def download_video(url):\n",
    "    # 向视频URL发送请求，获取二进制数据\n",
    "    return requests.get(url=url, headers=headers).content\n",
    "\n",
    "def save_video(data):\n",
    "    # 将视频二进制数据保存到本地\n",
    "    video_name = './' + str(random.randint(1000, 9999)) + \".mp4\"\n",
    "    with open(video_name, 'wb') as f:\n",
    "        f.write(data)\n",
    "\n",
    "page_text = requests.get(url=url, headers=headers).text\n",
    "\n",
    "tree = etree.HTML(page_text)\n",
    "\n",
    "li_list = tree.xpath('//ul[@id=\"listvideoListUl\"]/li')\n",
    "\n",
    "# 实例化线程池对象\n",
    "pool = Pool(4)\n",
    "\n",
    "video_url_list = list()\n",
    "for li in li_list:\n",
    "    detail_url = \"https://www.pearvideo.com/\" + li.xpath('./div/a/@href')[0]\n",
    "    page_text = requests.get(url=detail_url, headers=headers).text\n",
    "    ex = 'srcUrl=\"(.*?)\",vdoUrl='\n",
    "    \n",
    "    video_url = re.findall(ex, page_text, re.S)[0]\n",
    "    video_url_list.append(video_url)\n",
    "\n",
    "# 下载视频的二进制数据，存放到一个列表中video_data_list\n",
    "video_data_list = pool.map(download_video, video_url_list)\n",
    "\n",
    "# 将视频的二进制数据保存到本地(真正地下载视频到本地)\n",
    "pool.map(save_video, video_data_list)"
   ]
  },
  {
   "cell_type": "markdown",
   "metadata": {},
   "source": [
    "### 协程回顾"
   ]
  },
  {
   "cell_type": "markdown",
   "metadata": {},
   "source": [
    "event_loop：事件循环，相当于一个无限循环，我们可以把一些函数注册到这个事件循环上，当满足某些条件的时候，函数就会被循环执行。程序是按照设定的顺序从头执行到尾，运行的次数也是完全按照设定。当在编写异步程序时，必然其中有部分程序的运行耗时是比较久的，需要先让出当前程序的控制权，让其在背后运行，让另一部分的程序先运行起来。当背后运行的程序完成后，也需要及时通知主程序已经完成任务可以进行下一步操作，但这个过程所需的时间是不确定的，\n",
    "需要主程序不断的监听状态，一旦收到了任务完成的消息，就开始进行下一步。loop就是这个持续不断的监视器。\n",
    "\n",
    "coroutine：中文翻译叫协程，在 Python 中常指代为协程对象类型，我们可以将协程对象注册到事件循环中，它会被事件循环调用。我们可以使用 async 关键字来定义一个方法，这个方法在调用时不会立即被执行，而是返回一个协程对象。\n",
    "\n",
    "task：任务，它是对协程对象的进一步封装，包含了任务的各个状态。\n",
    "\n",
    "future：代表将来执行或还没有执行的任务，实际上和 task 没有本质区别。"
   ]
  },
  {
   "cell_type": "code",
   "execution_count": 12,
   "metadata": {
    "collapsed": true
   },
   "outputs": [
    {
     "ename": "RuntimeError",
     "evalue": "This event loop is already running",
     "output_type": "error",
     "traceback": [
      "\u001b[1;31m---------------------------------------------------------------------------\u001b[0m",
      "\u001b[1;31mRuntimeError\u001b[0m                              Traceback (most recent call last)",
      "\u001b[1;32m<ipython-input-12-c95c6b06171f>\u001b[0m in \u001b[0;36m<module>\u001b[1;34m\u001b[0m\n\u001b[0;32m     13\u001b[0m \u001b[1;33m\u001b[0m\u001b[0m\n\u001b[0;32m     14\u001b[0m \u001b[1;31m# 将协程对象注册到事件循环中, 并执行事件循环\u001b[0m\u001b[1;33m\u001b[0m\u001b[1;33m\u001b[0m\u001b[0m\n\u001b[1;32m---> 15\u001b[1;33m \u001b[0mloop\u001b[0m\u001b[1;33m.\u001b[0m\u001b[0mrun_until_complete\u001b[0m\u001b[1;33m(\u001b[0m\u001b[0mc\u001b[0m\u001b[1;33m)\u001b[0m\u001b[1;33m\u001b[0m\u001b[0m\n\u001b[0m",
      "\u001b[1;32mc:\\python36\\lib\\asyncio\\base_events.py\u001b[0m in \u001b[0;36mrun_until_complete\u001b[1;34m(self, future)\u001b[0m\n\u001b[0;32m    453\u001b[0m         \u001b[0mfuture\u001b[0m\u001b[1;33m.\u001b[0m\u001b[0madd_done_callback\u001b[0m\u001b[1;33m(\u001b[0m\u001b[0m_run_until_complete_cb\u001b[0m\u001b[1;33m)\u001b[0m\u001b[1;33m\u001b[0m\u001b[0m\n\u001b[0;32m    454\u001b[0m         \u001b[1;32mtry\u001b[0m\u001b[1;33m:\u001b[0m\u001b[1;33m\u001b[0m\u001b[0m\n\u001b[1;32m--> 455\u001b[1;33m             \u001b[0mself\u001b[0m\u001b[1;33m.\u001b[0m\u001b[0mrun_forever\u001b[0m\u001b[1;33m(\u001b[0m\u001b[1;33m)\u001b[0m\u001b[1;33m\u001b[0m\u001b[0m\n\u001b[0m\u001b[0;32m    456\u001b[0m         \u001b[1;32mexcept\u001b[0m\u001b[1;33m:\u001b[0m\u001b[1;33m\u001b[0m\u001b[0m\n\u001b[0;32m    457\u001b[0m             \u001b[1;32mif\u001b[0m \u001b[0mnew_task\u001b[0m \u001b[1;32mand\u001b[0m \u001b[0mfuture\u001b[0m\u001b[1;33m.\u001b[0m\u001b[0mdone\u001b[0m\u001b[1;33m(\u001b[0m\u001b[1;33m)\u001b[0m \u001b[1;32mand\u001b[0m \u001b[1;32mnot\u001b[0m \u001b[0mfuture\u001b[0m\u001b[1;33m.\u001b[0m\u001b[0mcancelled\u001b[0m\u001b[1;33m(\u001b[0m\u001b[1;33m)\u001b[0m\u001b[1;33m:\u001b[0m\u001b[1;33m\u001b[0m\u001b[0m\n",
      "\u001b[1;32mc:\\python36\\lib\\asyncio\\base_events.py\u001b[0m in \u001b[0;36mrun_forever\u001b[1;34m(self)\u001b[0m\n\u001b[0;32m    407\u001b[0m         \u001b[0mself\u001b[0m\u001b[1;33m.\u001b[0m\u001b[0m_check_closed\u001b[0m\u001b[1;33m(\u001b[0m\u001b[1;33m)\u001b[0m\u001b[1;33m\u001b[0m\u001b[0m\n\u001b[0;32m    408\u001b[0m         \u001b[1;32mif\u001b[0m \u001b[0mself\u001b[0m\u001b[1;33m.\u001b[0m\u001b[0mis_running\u001b[0m\u001b[1;33m(\u001b[0m\u001b[1;33m)\u001b[0m\u001b[1;33m:\u001b[0m\u001b[1;33m\u001b[0m\u001b[0m\n\u001b[1;32m--> 409\u001b[1;33m             \u001b[1;32mraise\u001b[0m \u001b[0mRuntimeError\u001b[0m\u001b[1;33m(\u001b[0m\u001b[1;34m'This event loop is already running'\u001b[0m\u001b[1;33m)\u001b[0m\u001b[1;33m\u001b[0m\u001b[0m\n\u001b[0m\u001b[0;32m    410\u001b[0m         \u001b[1;32mif\u001b[0m \u001b[0mevents\u001b[0m\u001b[1;33m.\u001b[0m\u001b[0m_get_running_loop\u001b[0m\u001b[1;33m(\u001b[0m\u001b[1;33m)\u001b[0m \u001b[1;32mis\u001b[0m \u001b[1;32mnot\u001b[0m \u001b[1;32mNone\u001b[0m\u001b[1;33m:\u001b[0m\u001b[1;33m\u001b[0m\u001b[0m\n\u001b[0;32m    411\u001b[0m             raise RuntimeError(\n",
      "\u001b[1;31mRuntimeError\u001b[0m: This event loop is already running"
     ]
    }
   ],
   "source": [
    "# 基本使用\n",
    "import asyncio\n",
    "\n",
    "# 定义了一个特殊函数\n",
    "async def hello(name):\n",
    "    print(\"hello \" + name)\n",
    "\n",
    "# 通过函数名加括号执行这个特殊函数，并不会立即执行，而是返回一个协程对象\n",
    "c = hello(\"oldboy\")\n",
    "\n",
    "# 实例化一个事件循环对象\n",
    "loop = asyncio.get_event_loop()\n",
    "\n",
    "# 将协程对象注册到事件循环中, 并执行事件循环\n",
    "loop.run_until_complete(c)"
   ]
  },
  {
   "cell_type": "code",
   "execution_count": null,
   "metadata": {},
   "outputs": [],
   "source": [
    "# task的使用\n",
    "import asyncio\n",
    "\n",
    "# 定义了一个特殊函数\n",
    "async def hello(name):\n",
    "    print(\"hello \" + url)\n",
    "\n",
    "# 通过函数名加括号执行这个特殊函数，并不会立即执行，而是返回一个协程对象\n",
    "c = hello(\"oldboy\")\n",
    "\n",
    "# 实例化一个事件循环对象\n",
    "loop = asyncio.get_event_loop()\n",
    "\n",
    "# 创建一个task任务对象\n",
    "task = loop.create_task(c)\n",
    "\n",
    "# 将协程对象注册到事件循环中, 并执行事件循环\n",
    "print(task)\n",
    "loop.run_until_complete(task)\n",
    "print(task)"
   ]
  },
  {
   "cell_type": "code",
   "execution_count": null,
   "metadata": {},
   "outputs": [],
   "source": [
    "# feture的使用\n",
    "import asyncio\n",
    "\n",
    "# 定义了一个特殊函数\n",
    "async def hello(name):\n",
    "    print(\"hello \" + url)\n",
    "\n",
    "# 通过函数名加括号执行这个特殊函数，并不会立即执行，而是返回一个协程对象\n",
    "c = hello(\"oldboy\")\n",
    "\n",
    "# 实例化一个事件循环对象\n",
    "loop = asyncio.get_event_loop()\n",
    "\n",
    "# 创建一个feture任务对象\n",
    "feture = asyncio.ensure_future(c)\n",
    "\n",
    "# 将协程对象注册到事件循环中, 并执行事件循环\n",
    "print(feture)\n",
    "loop.run_until_complete(feture)\n",
    "print(feture)"
   ]
  },
  {
   "cell_type": "code",
   "execution_count": null,
   "metadata": {},
   "outputs": [],
   "source": [
    "# 回调函数的使用\n",
    "import asyncio\n",
    "\n",
    "# 定义了一个特殊函数\n",
    "async def request(url):\n",
    "    print(\"向URL发送请求，获取响应数据\" + url)\n",
    "    return \"page_text\"\n",
    "\n",
    "# 定义一个回调函数，用来实现数据解析\n",
    "def call_back(task):\n",
    "    print(\"在这里进行数据解析操作\")\n",
    "    print(task.result())\n",
    "\n",
    "\n",
    "# 通过函数名加括号执行这个特殊函数，并不会立即执行，而是返回一个协程对象\n",
    "c = request(\"https://www.baidu.com\")\n",
    "\n",
    "# 实例化一个事件循环对象\n",
    "loop = asyncio.get_event_loop()\n",
    "\n",
    "# 创建一个feture任务对象\n",
    "feture = asyncio.ensure_future(c)\n",
    "\n",
    "# 加上一个绑定回调\n",
    "feture.add_done_callback(call_back)\n",
    "\n",
    "# 将协程对象注册到事件循环中, 并执行事件循环\n",
    "loop.run_until_complete(feture)"
   ]
  },
  {
   "cell_type": "code",
   "execution_count": null,
   "metadata": {},
   "outputs": [],
   "source": []
  }
 ],
 "metadata": {
  "kernelspec": {
   "display_name": "Python 3",
   "language": "python",
   "name": "python3"
  },
  "language_info": {
   "codemirror_mode": {
    "name": "ipython",
    "version": 3
   },
   "file_extension": ".py",
   "mimetype": "text/x-python",
   "name": "python",
   "nbconvert_exporter": "python",
   "pygments_lexer": "ipython3",
   "version": "3.6.5"
  }
 },
 "nbformat": 4,
 "nbformat_minor": 2
}
