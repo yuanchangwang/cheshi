{
 "cells": [
  {
   "cell_type": "markdown",
   "metadata": {},
   "source": [
    "#### 今日作业:\n",
    "\n",
    "1. 模拟登录古诗文网:https://so.gushiwen.org/user/login.aspx?from=http://so.gushiwen.org/user/collect.aspx\n",
    "2. 爬取雪球网的新闻(基于cookie)\n",
    "3. 使用selenium对QQ空间进行模拟登录，然后解析登录成功后好友的说说\n",
    "4. 使用aiohttp实现支持异步的网络请求模块, 能够在短耗时的前提下请求多个页面(20个页面)"
   ]
  },
  {
   "cell_type": "code",
   "execution_count": null,
   "metadata": {},
   "outputs": [],
   "source": []
  }
 ],
 "metadata": {
  "kernelspec": {
   "display_name": "Python 3",
   "language": "python",
   "name": "python3"
  },
  "language_info": {
   "codemirror_mode": {
    "name": "ipython",
    "version": 3
   },
   "file_extension": ".py",
   "mimetype": "text/x-python",
   "name": "python",
   "nbconvert_exporter": "python",
   "pygments_lexer": "ipython3",
   "version": "3.6.5"
  }
 },
 "nbformat": 4,
 "nbformat_minor": 2
}
