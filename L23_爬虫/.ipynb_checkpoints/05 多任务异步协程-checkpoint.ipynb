{
 "cells": [
  {
   "cell_type": "markdown",
   "metadata": {},
   "source": [
    "### 1. 多任务异步协程"
   ]
  },
  {
   "cell_type": "code",
   "execution_count": 2,
   "metadata": {
    "collapsed": true
   },
   "outputs": [
    {
     "name": "stdout",
     "output_type": "stream",
     "text": [
      "正在下载:  www.baidu.com\n",
      "下载成功: www.baidu.com\n",
      "正在下载:  www.taobao.com\n",
      "下载成功: www.taobao.com\n",
      "正在下载:  www.sogou.com\n",
      "下载成功: www.sogou.com\n",
      "总耗时:  6.0063371658325195\n"
     ]
    }
   ],
   "source": [
    "# 1.多任务异步协程\n",
    "import time\n",
    "import asyncio\n",
    "\n",
    "async def request(url):\n",
    "    print('正在下载: ', url)\n",
    "    time.sleep(2)\n",
    "    print('下载成功:', url)\n",
    "\n",
    "start = time.time()\n",
    "urls = [\n",
    "    'www.baidu.com',\n",
    "    'www.taobao.com',\n",
    "    'www.sogou.com'\n",
    "]\n",
    "start = time.time()\n",
    "\n",
    "loop = asyncio.get_event_loop()\n",
    "\n",
    "tasks = []  # 任务列表，放置多个任务对象\n",
    "for url in urls:\n",
    "    c = request(url)\n",
    "    task = asyncio.ensure_future(c)\n",
    "    tasks.append(task)\n",
    "\n",
    "# 将多个任务对象对应的列表注册到事件循环中\n",
    "loop.run_until_complete(asyncio.wait(tasks))\n",
    "print('总耗时: ', time.time()-start)"
   ]
  },
  {
   "cell_type": "code",
   "execution_count": 3,
   "metadata": {
    "collapsed": true
   },
   "outputs": [
    {
     "name": "stdout",
     "output_type": "stream",
     "text": [
      "正在下载:  www.baidu.com\n",
      "正在下载:  www.taobao.com\n",
      "正在下载:  www.sogou.com\n",
      "下载成功: www.baidu.com\n",
      "下载成功: www.taobao.com\n",
      "下载成功: www.sogou.com\n",
      "总耗时:  2.0010831356048584\n"
     ]
    }
   ],
   "source": [
    "# 2.多任务异步协程(改进版)\n",
    "import time\n",
    "import asyncio\n",
    "\n",
    "async def request(url):\n",
    "    print('正在下载: ', url)\n",
    "#     time.sleep(2)\n",
    "    await asyncio.sleep(2)  # 使用await关键字对异步阻塞的操作进行挂起\n",
    "    print('下载成功:', url)\n",
    "\n",
    "start = time.time()\n",
    "urls = [\n",
    "    'www.baidu.com',\n",
    "    'www.taobao.com',\n",
    "    'www.sogou.com'\n",
    "]\n",
    "start = time.time()\n",
    "\n",
    "loop = asyncio.get_event_loop()\n",
    "\n",
    "tasks = []  # 任务列表，放置多个任务对象\n",
    "for url in urls:\n",
    "    c = request(url)\n",
    "    task = asyncio.ensure_future(c)\n",
    "    tasks.append(task)\n",
    "\n",
    "# 将多个任务对象对应的列表注册到事件循环中\n",
    "loop.run_until_complete(asyncio.wait(tasks))\n",
    "print('总耗时: ', time.time()-start)"
   ]
  },
  {
   "cell_type": "markdown",
   "metadata": {},
   "source": [
    "### 2. 将多任务异步操作应用到爬虫中"
   ]
  },
  {
   "cell_type": "code",
   "execution_count": 4,
   "metadata": {
    "collapsed": true
   },
   "outputs": [
    {
     "name": "stdout",
     "output_type": "stream",
     "text": [
      "正在下载:  http://127.0.0.1:5000/tiger\n",
      "响应数据 Hello tiger\n",
      "下载成功: http://127.0.0.1:5000/tiger\n",
      "正在下载:  http://127.0.0.1:5000/jay\n",
      "响应数据 Hello jay\n",
      "下载成功: http://127.0.0.1:5000/jay\n",
      "正在下载:  http://127.0.0.1:5000/tom\n",
      "响应数据 Hello tom\n",
      "下载成功: http://127.0.0.1:5000/tom\n",
      "总耗时:  6.019470691680908\n"
     ]
    }
   ],
   "source": [
    "import requests\n",
    "\n",
    "async def get_page(url):\n",
    "    print('正在下载: ', url)\n",
    "    # 之所有没有实现异步操作，原因是requests是一个非异步的模块\n",
    "    response = requests.get(url=url)\n",
    "    print('响应数据', response.text)\n",
    "    print('下载成功:', url)\n",
    "\n",
    "start = time.time()\n",
    "urls = [\n",
    "    'http://127.0.0.1:5000/tiger',\n",
    "    'http://127.0.0.1:5000/jay',\n",
    "    'http://127.0.0.1:5000/tom',\n",
    "]\n",
    "loop = asyncio.get_event_loop()\n",
    "\n",
    "tasks = []\n",
    "for url in urls:\n",
    "    c = get_page(url)\n",
    "    task = asyncio.ensure_future(c)\n",
    "    tasks.append(task)\n",
    "\n",
    "loop.run_until_complete(asyncio.wait(tasks))\n",
    "print('总耗时: ', time.time()-start)"
   ]
  },
  {
   "cell_type": "markdown",
   "metadata": {},
   "source": [
    "### 3. 支持异步的网络请求的模块: aiohttp\n",
    "- 环境安装: pip install aiohttp"
   ]
  },
  {
   "cell_type": "code",
   "execution_count": 13,
   "metadata": {},
   "outputs": [
    {
     "name": "stdout",
     "output_type": "stream",
     "text": [
      "响应数据 Hello tom\n",
      "响应数据 Hello jay\n",
      "响应数据 Hello tiger\n",
      "总耗时:  2.017507314682007\n"
     ]
    }
   ],
   "source": [
    "# 使用aiohttp替代requests模块\n",
    "import time\n",
    "import asyncio\n",
    "import aiohttp\n",
    "\n",
    "async def get_page(url):\n",
    "    async with aiohttp.ClientSession() as session:\n",
    "        # 只要有耗时就会有阻塞，就得使用await进行挂起操作\n",
    "        async with await session.get(url=url) as response:\n",
    "            page_text = await response.text() # 二进制read()/json()\n",
    "            print('响应数据', page_text)\n",
    "\n",
    "start = time.time()\n",
    "urls = [\n",
    "    'http://127.0.0.1:5000/tiger',\n",
    "    'http://127.0.0.1:5000/jay',\n",
    "    'http://127.0.0.1:5000/tom',\n",
    "]\n",
    "loop = asyncio.get_event_loop()\n",
    "\n",
    "tasks = []\n",
    "for url in urls:\n",
    "    cone = get_page(url)\n",
    "    task = asyncio.ensure_future(cone)\n",
    "    tasks.append(task)\n",
    "\n",
    "loop.run_until_complete(asyncio.wait(tasks))\n",
    "print('总耗时: ', time.time()-start)"
   ]
  },
  {
   "cell_type": "markdown",
   "metadata": {},
   "source": [
    "### 4. 如何实现数据解析--任务的绑定回调机制"
   ]
  },
  {
   "cell_type": "code",
   "execution_count": 15,
   "metadata": {},
   "outputs": [
    {
     "name": "stdout",
     "output_type": "stream",
     "text": [
      "响应数据 Hello tom\n",
      "响应数据 Hello tiger\n",
      "响应数据 Hello jay\n",
      "This is callback\n",
      "接下来就可以在回调函数中实现数据解析\n",
      "This is callback\n",
      "接下来就可以在回调函数中实现数据解析\n",
      "This is callback\n",
      "接下来就可以在回调函数中实现数据解析\n",
      "总耗时:  2.0184483528137207\n"
     ]
    }
   ],
   "source": [
    "import time\n",
    "import asyncio\n",
    "import aiohttp\n",
    "\n",
    "# 回调函数: 主要用来解析响应数据\n",
    "def callback(task):\n",
    "    print('This is callback')\n",
    "    # 获取响应数据\n",
    "    page_text = task.result()\n",
    "    print(\"接下来就可以在回调函数中实现数据解析\")\n",
    "\n",
    "async def get_page(url):\n",
    "    async with aiohttp.ClientSession() as session:\n",
    "        # 只要有耗时就会有阻塞，就得使用await进行挂起操作\n",
    "        async with await session.get(url=url) as response:\n",
    "            page_text = await response.text() # 二进制read()/json()\n",
    "            print('响应数据', page_text)\n",
    "            return page_text\n",
    "\n",
    "start = time.time()\n",
    "urls = [\n",
    "    'http://127.0.0.1:5000/tiger',\n",
    "    'http://127.0.0.1:5000/jay',\n",
    "    'http://127.0.0.1:5000/tom',\n",
    "]\n",
    "loop = asyncio.get_event_loop()\n",
    "\n",
    "tasks = []\n",
    "for url in urls:\n",
    "    cone = get_page(url)\n",
    "    task = asyncio.ensure_future(cone)\n",
    "    # 给任务对象绑定回调函数用于解析响应数据\n",
    "    task.add_done_callback(callback)\n",
    "    tasks.append(task)\n",
    "\n",
    "loop.run_until_complete(asyncio.wait(tasks))\n",
    "print('总耗时: ', time.time()-start)"
   ]
  },
  {
   "cell_type": "code",
   "execution_count": null,
   "metadata": {},
   "outputs": [],
   "source": []
  },
  {
   "cell_type": "code",
   "execution_count": null,
   "metadata": {},
   "outputs": [],
   "source": []
  },
  {
   "cell_type": "code",
   "execution_count": null,
   "metadata": {},
   "outputs": [],
   "source": []
  }
 ],
 "metadata": {
  "kernelspec": {
   "display_name": "Python 3",
   "language": "python",
   "name": "python3"
  },
  "language_info": {
   "codemirror_mode": {
    "name": "ipython",
    "version": 3
   },
   "file_extension": ".py",
   "mimetype": "text/x-python",
   "name": "python",
   "nbconvert_exporter": "python",
   "pygments_lexer": "ipython3",
   "version": "3.6.5"
  }
 },
 "nbformat": 4,
 "nbformat_minor": 2
}
