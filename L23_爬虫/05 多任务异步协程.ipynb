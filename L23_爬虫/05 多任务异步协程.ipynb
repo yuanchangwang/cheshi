{
 "cells": [
  {
   "cell_type": "markdown",
   "metadata": {},
   "source": [
    "### 1. 多任务异步协程"
   ]
  },
  {
   "cell_type": "code",
   "execution_count": 2,
   "metadata": {
    "collapsed": true
   },
   "outputs": [
    {
     "ename": "RuntimeError",
     "evalue": "This event loop is already running",
     "output_type": "error",
     "traceback": [
      "\u001b[1;31m---------------------------------------------------------------------------\u001b[0m",
      "\u001b[1;31mRuntimeError\u001b[0m                              Traceback (most recent call last)",
      "\u001b[1;32m<ipython-input-2-2d4fc7401117>\u001b[0m in \u001b[0;36m<module>\u001b[1;34m\u001b[0m\n\u001b[0;32m     25\u001b[0m \u001b[1;33m\u001b[0m\u001b[0m\n\u001b[0;32m     26\u001b[0m \u001b[1;31m# 将多个任务对象对应的列表注册到事件循环中\u001b[0m\u001b[1;33m\u001b[0m\u001b[1;33m\u001b[0m\u001b[0m\n\u001b[1;32m---> 27\u001b[1;33m \u001b[0mloop\u001b[0m\u001b[1;33m.\u001b[0m\u001b[0mrun_until_complete\u001b[0m\u001b[1;33m(\u001b[0m\u001b[0masyncio\u001b[0m\u001b[1;33m.\u001b[0m\u001b[0mwait\u001b[0m\u001b[1;33m(\u001b[0m\u001b[0mtasks\u001b[0m\u001b[1;33m)\u001b[0m\u001b[1;33m)\u001b[0m\u001b[1;33m\u001b[0m\u001b[0m\n\u001b[0m\u001b[0;32m     28\u001b[0m \u001b[0mprint\u001b[0m\u001b[1;33m(\u001b[0m\u001b[1;34m'总耗时: '\u001b[0m\u001b[1;33m,\u001b[0m \u001b[0mtime\u001b[0m\u001b[1;33m.\u001b[0m\u001b[0mtime\u001b[0m\u001b[1;33m(\u001b[0m\u001b[1;33m)\u001b[0m\u001b[1;33m-\u001b[0m\u001b[0mstart\u001b[0m\u001b[1;33m)\u001b[0m\u001b[1;33m\u001b[0m\u001b[0m\n",
      "\u001b[1;32mc:\\python36\\lib\\asyncio\\base_events.py\u001b[0m in \u001b[0;36mrun_until_complete\u001b[1;34m(self, future)\u001b[0m\n\u001b[0;32m    453\u001b[0m         \u001b[0mfuture\u001b[0m\u001b[1;33m.\u001b[0m\u001b[0madd_done_callback\u001b[0m\u001b[1;33m(\u001b[0m\u001b[0m_run_until_complete_cb\u001b[0m\u001b[1;33m)\u001b[0m\u001b[1;33m\u001b[0m\u001b[0m\n\u001b[0;32m    454\u001b[0m         \u001b[1;32mtry\u001b[0m\u001b[1;33m:\u001b[0m\u001b[1;33m\u001b[0m\u001b[0m\n\u001b[1;32m--> 455\u001b[1;33m             \u001b[0mself\u001b[0m\u001b[1;33m.\u001b[0m\u001b[0mrun_forever\u001b[0m\u001b[1;33m(\u001b[0m\u001b[1;33m)\u001b[0m\u001b[1;33m\u001b[0m\u001b[0m\n\u001b[0m\u001b[0;32m    456\u001b[0m         \u001b[1;32mexcept\u001b[0m\u001b[1;33m:\u001b[0m\u001b[1;33m\u001b[0m\u001b[0m\n\u001b[0;32m    457\u001b[0m             \u001b[1;32mif\u001b[0m \u001b[0mnew_task\u001b[0m \u001b[1;32mand\u001b[0m \u001b[0mfuture\u001b[0m\u001b[1;33m.\u001b[0m\u001b[0mdone\u001b[0m\u001b[1;33m(\u001b[0m\u001b[1;33m)\u001b[0m \u001b[1;32mand\u001b[0m \u001b[1;32mnot\u001b[0m \u001b[0mfuture\u001b[0m\u001b[1;33m.\u001b[0m\u001b[0mcancelled\u001b[0m\u001b[1;33m(\u001b[0m\u001b[1;33m)\u001b[0m\u001b[1;33m:\u001b[0m\u001b[1;33m\u001b[0m\u001b[0m\n",
      "\u001b[1;32mc:\\python36\\lib\\asyncio\\base_events.py\u001b[0m in \u001b[0;36mrun_forever\u001b[1;34m(self)\u001b[0m\n\u001b[0;32m    407\u001b[0m         \u001b[0mself\u001b[0m\u001b[1;33m.\u001b[0m\u001b[0m_check_closed\u001b[0m\u001b[1;33m(\u001b[0m\u001b[1;33m)\u001b[0m\u001b[1;33m\u001b[0m\u001b[0m\n\u001b[0;32m    408\u001b[0m         \u001b[1;32mif\u001b[0m \u001b[0mself\u001b[0m\u001b[1;33m.\u001b[0m\u001b[0mis_running\u001b[0m\u001b[1;33m(\u001b[0m\u001b[1;33m)\u001b[0m\u001b[1;33m:\u001b[0m\u001b[1;33m\u001b[0m\u001b[0m\n\u001b[1;32m--> 409\u001b[1;33m             \u001b[1;32mraise\u001b[0m \u001b[0mRuntimeError\u001b[0m\u001b[1;33m(\u001b[0m\u001b[1;34m'This event loop is already running'\u001b[0m\u001b[1;33m)\u001b[0m\u001b[1;33m\u001b[0m\u001b[0m\n\u001b[0m\u001b[0;32m    410\u001b[0m         \u001b[1;32mif\u001b[0m \u001b[0mevents\u001b[0m\u001b[1;33m.\u001b[0m\u001b[0m_get_running_loop\u001b[0m\u001b[1;33m(\u001b[0m\u001b[1;33m)\u001b[0m \u001b[1;32mis\u001b[0m \u001b[1;32mnot\u001b[0m \u001b[1;32mNone\u001b[0m\u001b[1;33m:\u001b[0m\u001b[1;33m\u001b[0m\u001b[0m\n\u001b[0;32m    411\u001b[0m             raise RuntimeError(\n",
      "\u001b[1;31mRuntimeError\u001b[0m: This event loop is already running"
     ]
    },
    {
     "name": "stdout",
     "output_type": "stream",
     "text": [
      "正在下载:  www.baidu.com\n",
      "下载成功: www.baidu.com\n",
      "正在下载:  www.taobao.com\n",
      "下载成功: www.taobao.com\n",
      "正在下载:  www.sogou.com\n",
      "下载成功: www.sogou.com\n"
     ]
    }
   ],
   "source": [
    "# 1.多任务异步协程\n",
    "import time\n",
    "import asyncio\n",
    "\n",
    "async def request(url):\n",
    "    print('正在下载: ', url)\n",
    "    time.sleep(2)   # time为非异步模块的代码,在此处如果存在非异步操作代码，则会彻底让asyncio失去异步的效果\n",
    "    print('下载成功:', url)\n",
    "\n",
    "start = time.time()\n",
    "urls = [\n",
    "    'www.baidu.com',\n",
    "    'www.taobao.com',\n",
    "    'www.sogou.com'\n",
    "]\n",
    "\n",
    "loop = asyncio.get_event_loop()\n",
    "\n",
    "tasks = []  # 任务列表，放置多个任务对象\n",
    "for url in urls:\n",
    "    c = request(url)\n",
    "    task = asyncio.ensure_future(c)\n",
    "    tasks.append(task)\n",
    "\n",
    "# 将多个任务对象对应的列表注册到事件循环中\n",
    "loop.run_until_complete(asyncio.wait(tasks))\n",
    "print('总耗时: ', time.time()-start)"
   ]
  },
  {
   "cell_type": "code",
   "execution_count": 3,
   "metadata": {
    "collapsed": true
   },
   "outputs": [
    {
     "name": "stdout",
     "output_type": "stream",
     "text": [
      "正在下载:  www.baidu.com\n",
      "正在下载:  www.taobao.com\n",
      "正在下载:  www.sogou.com\n",
      "下载成功: www.baidu.com\n",
      "下载成功: www.taobao.com\n",
      "下载成功: www.sogou.com\n",
      "总耗时:  2.0010831356048584\n"
     ]
    }
   ],
   "source": [
    "# 2.多任务异步协程(改进版)\n",
    "import time\n",
    "import asyncio\n",
    "\n",
    "async def request(url):\n",
    "    print('正在下载: ', url)\n",
    "#     time.sleep(2)\n",
    "    await asyncio.sleep(2)  # 使用await关键字对异步阻塞的操作进行挂起\n",
    "    print('下载成功:', url)\n",
    "\n",
    "start = time.time()\n",
    "urls = [\n",
    "    'www.baidu.com',\n",
    "    'www.taobao.com',\n",
    "    'www.sogou.com'\n",
    "]\n",
    "start = time.time()\n",
    "\n",
    "loop = asyncio.get_event_loop()\n",
    "\n",
    "tasks = []  # 任务列表，放置多个任务对象\n",
    "for url in urls:\n",
    "    c = request(url)\n",
    "    task = asyncio.ensure_future(c)\n",
    "    tasks.append(task)\n",
    "\n",
    "# 将多个任务对象对应的列表注册到事件循环中\n",
    "loop.run_until_complete(asyncio.wait(tasks))\n",
    "print('总耗时: ', time.time()-start)"
   ]
  },
  {
   "cell_type": "markdown",
   "metadata": {},
   "source": [
    "### 2. 将多任务异步操作应用到爬虫中"
   ]
  },
  {
   "cell_type": "code",
   "execution_count": 4,
   "metadata": {
    "collapsed": true
   },
   "outputs": [
    {
     "name": "stdout",
     "output_type": "stream",
     "text": [
      "正在下载:  http://127.0.0.1:5000/tiger\n",
      "响应数据 Hello tiger\n",
      "下载成功: http://127.0.0.1:5000/tiger\n",
      "正在下载:  http://127.0.0.1:5000/jay\n",
      "响应数据 Hello jay\n",
      "下载成功: http://127.0.0.1:5000/jay\n",
      "正在下载:  http://127.0.0.1:5000/tom\n",
      "响应数据 Hello tom\n",
      "下载成功: http://127.0.0.1:5000/tom\n",
      "总耗时:  6.019470691680908\n"
     ]
    }
   ],
   "source": [
    "import requests\n",
    "\n",
    "async def get_page(url):\n",
    "    print('正在下载: ', url)\n",
    "    # 之所有没有实现异步操作，原因是requests是一个非异步的模块\n",
    "    response = requests.get(url=url)\n",
    "    print('响应数据', response.text)\n",
    "    print('下载成功:', url)\n",
    "\n",
    "start = time.time()\n",
    "urls = [\n",
    "    'http://127.0.0.1:5000/tiger',\n",
    "    'http://127.0.0.1:5000/jay',\n",
    "    'http://127.0.0.1:5000/tom',\n",
    "]\n",
    "loop = asyncio.get_event_loop()\n",
    "\n",
    "tasks = []\n",
    "for url in urls:\n",
    "    c = get_page(url)\n",
    "    task = asyncio.ensure_future(c)\n",
    "    tasks.append(task)\n",
    "\n",
    "loop.run_until_complete(asyncio.wait(tasks))\n",
    "print('总耗时: ', time.time()-start)"
   ]
  },
  {
   "cell_type": "markdown",
   "metadata": {},
   "source": [
    "### 3. 支持异步的网络请求的模块: aiohttp\n",
    "- 环境安装: pip install aiohttp"
   ]
  },
  {
   "cell_type": "code",
   "execution_count": 13,
   "metadata": {},
   "outputs": [
    {
     "name": "stdout",
     "output_type": "stream",
     "text": [
      "响应数据 Hello tom\n",
      "响应数据 Hello jay\n",
      "响应数据 Hello tiger\n",
      "总耗时:  2.017507314682007\n"
     ]
    }
   ],
   "source": [
    "# 使用aiohttp替代requests模块\n",
    "import time\n",
    "import asyncio\n",
    "import aiohttp\n",
    "\n",
    "async def get_page(url):\n",
    "    async with aiohttp.ClientSession() as session:\n",
    "        # 只要有耗时就会有阻塞，就得使用await进行挂起操作\n",
    "        async with await session.get(url=url) as response:\n",
    "            page_text = await response.text() # 二进制read()/json()\n",
    "            print('响应数据', page_text)\n",
    "\n",
    "start = time.time()\n",
    "urls = [\n",
    "    'http://127.0.0.1:5000/tiger',\n",
    "    'http://127.0.0.1:5000/jay',\n",
    "    'http://127.0.0.1:5000/tom',\n",
    "]\n",
    "loop = asyncio.get_event_loop()\n",
    "\n",
    "tasks = []\n",
    "for url in urls:\n",
    "    cone = get_page(url)\n",
    "    task = asyncio.ensure_future(cone)\n",
    "    tasks.append(task)\n",
    "\n",
    "loop.run_until_complete(asyncio.wait(tasks))\n",
    "print('总耗时: ', time.time()-start)"
   ]
  },
  {
   "cell_type": "markdown",
   "metadata": {},
   "source": [
    "### 4. 如何实现数据解析--任务的绑定回调机制"
   ]
  },
  {
   "cell_type": "code",
   "execution_count": 15,
   "metadata": {},
   "outputs": [
    {
     "name": "stdout",
     "output_type": "stream",
     "text": [
      "响应数据 Hello tom\n",
      "响应数据 Hello tiger\n",
      "响应数据 Hello jay\n",
      "This is callback\n",
      "接下来就可以在回调函数中实现数据解析\n",
      "This is callback\n",
      "接下来就可以在回调函数中实现数据解析\n",
      "This is callback\n",
      "接下来就可以在回调函数中实现数据解析\n",
      "总耗时:  2.0184483528137207\n"
     ]
    }
   ],
   "source": [
    "import time\n",
    "import asyncio\n",
    "import aiohttp\n",
    "\n",
    "# 回调函数: 主要用来解析响应数据\n",
    "def callback(task):\n",
    "    print('This is callback')\n",
    "    # 获取响应数据\n",
    "    page_text = task.result()\n",
    "    print(\"接下来就可以在回调函数中实现数据解析\")\n",
    "\n",
    "async def get_page(url):\n",
    "    async with aiohttp.ClientSession() as session:\n",
    "        # 只要有耗时就会有阻塞，就得使用await进行挂起操作\n",
    "        async with await session.get(url=url) as response:\n",
    "            page_text = await response.text() # 二进制read()/json()\n",
    "            print('响应数据', page_text)\n",
    "            return page_text\n",
    "\n",
    "start = time.time()\n",
    "urls = [\n",
    "    'http://127.0.0.1:5000/tiger',\n",
    "    'http://127.0.0.1:5000/jay',\n",
    "    'http://127.0.0.1:5000/tom',\n",
    "]\n",
    "loop = asyncio.get_event_loop()\n",
    "\n",
    "tasks = []\n",
    "for url in urls:\n",
    "    cone = get_page(url)\n",
    "    task = asyncio.ensure_future(cone)\n",
    "    # 给任务对象绑定回调函数用于解析响应数据\n",
    "    task.add_done_callback(callback)\n",
    "    tasks.append(task)\n",
    "\n",
    "loop.run_until_complete(asyncio.wait(tasks))\n",
    "print('总耗时: ', time.time()-start)"
   ]
  },
  {
   "cell_type": "code",
   "execution_count": null,
   "metadata": {},
   "outputs": [],
   "source": []
  },
  {
   "cell_type": "code",
   "execution_count": null,
   "metadata": {},
   "outputs": [],
   "source": []
  },
  {
   "cell_type": "code",
   "execution_count": null,
   "metadata": {},
   "outputs": [],
   "source": []
  }
 ],
 "metadata": {
  "kernelspec": {
   "display_name": "Python 3",
   "language": "python",
   "name": "python3"
  },
  "language_info": {
   "codemirror_mode": {
    "name": "ipython",
    "version": 3
   },
   "file_extension": ".py",
   "mimetype": "text/x-python",
   "name": "python",
   "nbconvert_exporter": "python",
   "pygments_lexer": "ipython3",
   "version": "3.6.5"
  }
 },
 "nbformat": 4,
 "nbformat_minor": 2
}
