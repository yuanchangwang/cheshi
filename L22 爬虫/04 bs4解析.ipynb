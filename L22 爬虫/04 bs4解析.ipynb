{
 "cells": [
  {
   "cell_type": "markdown",
   "metadata": {},
   "source": [
    "### bs4数据解析\n",
    "    - 环境安装:\n",
    "        pip install bs4\n",
    "        pip install lxml # 它是一个解析器,如果使用bs4进行数据解析,需要依靠lxml\n",
    "    - 导入bs4模块\n",
    "        - from bs4 import BeautifulSoup\n",
    "    - BeautifulSoup解析原理:\n",
    "        - 实例化一个BeautifulSoup对象,并将需要解析的页面源码数据加载到对象中\n",
    "        - 使用该对象的相关属性和方法进行数据解析或提取\n",
    "    - 如何实例化一个BeautifulSoup对象\n",
    "        - 本地加载: \n",
    "            f = open()\n",
    "            soup = BeautifulSoup(f, \"lxml\")\n",
    "        - 网络加载: \n",
    "            soup = BeautifulSoup(page_text, \"lxml\")\n",
    "    - BeautifulSoup对象相关的属性和方法\n",
    "        - soup.tagName 获取页面源码中遇到的第一个标签\n",
    "        - 取属性: 返回的永远是一个单数\n",
    "            - soup.tagName.attrs 取得标签里面所有的属性(返回的是一个字典)\n",
    "            - soup.tagName.attrs[属性名] 取标签的单个属性\n",
    "            - soup.tagName[属性名] 取标签的单个属性\n",
    "        - 取文本:\n",
    "            - soup.string: 只可以获取直系标签中的文本内容\n",
    "            - soup.text: 获取标签下的所有文本内容\n",
    "            - soup.get_text(): 获取标签下的所有文本内容\n",
    "        - find() 返回的永远是一个单数\n",
    "            - find(tagName): 通过标签名进行数据解析\n",
    "            - find(tagName, 标签属性): 通过标签属性进行标签定位\n",
    "        - find_all() 返回的永远是一个列表\n",
    "            - 找到所有符合要求的标签\n",
    "        - select 选择器 返回的永远是一个列表\n",
    "            - 标签选择器, 类选择器, ID选择器, 层级选择器\n",
    "            - 层级选择器:\n",
    "                - 单层级: soup.select(\".tang > ul > li\")\n",
    "                - 多层级: soup.select(\".tang li\")\n",
    "        "
   ]
  },
  {
   "cell_type": "code",
   "execution_count": 2,
   "metadata": {},
   "outputs": [],
   "source": [
    "from bs4 import BeautifulSoup"
   ]
  },
  {
   "cell_type": "code",
   "execution_count": 41,
   "metadata": {},
   "outputs": [
    {
     "data": {
      "text/plain": [
       "<html lang=\"en\">\n",
       "<head>\n",
       "<meta charset=\"utf-8\"/>\n",
       "<title>测试bs4</title>\n",
       "</head>\n",
       "<body>\n",
       "<div>\n",
       "<p>百里守约</p>\n",
       "</div>\n",
       "<div class=\"song\">\n",
       "<p>李清照</p>\n",
       "<p>王安石</p>\n",
       "<p>苏轼</p>\n",
       "<p>柳宗元</p>\n",
       "<a href=\"http://www.song.com/\" target=\"_self\" title=\"赵匡胤\">\n",
       "<span>this is span</span>\n",
       "        宋朝是最强大的王朝，不是军队的强大，而是经济很强大，国民都很有钱</a>\n",
       "<a class=\"du\" href=\"\">总为浮云能蔽日,长安不见使人愁</a>\n",
       "<img alt=\"\" src=\"http://www.baidu.com/meinv.jpg\"/>\n",
       "</div>\n",
       "<div class=\"tang\">\n",
       "<ul>\n",
       "<li><a href=\"http://www.baidu.com\" title=\"qing\">清明时节雨纷纷,路上行人欲断魂,借问酒家何处有,牧童遥指杏花村</a></li>\n",
       "<li><a href=\"http://www.163.com\" title=\"qin\">秦时明月汉时关,万里长征人未还,但使龙城飞将在,不教胡马度阴山</a></li>\n",
       "<li><a alt=\"qi\" href=\"http://www.126.com\">岐王宅里寻常见,崔九堂前几度闻,正是江南好风景,落花时节又逢君</a></li>\n",
       "<li><a class=\"du\" href=\"http://www.sina.com\">杜甫</a></li>\n",
       "<li><a class=\"du\" href=\"http://www.dudu.com\">杜牧</a></li>\n",
       "<li><b>杜小月</b></li>\n",
       "<li><i>度蜜月</i></li>\n",
       "<li><a href=\"http://www.haha.com\" id=\"feng\">凤凰台上凤凰游,凤去台空江自流,吴宫花草埋幽径,晋代衣冠成古丘</a></li>\n",
       "</ul>\n",
       "</div>\n",
       "</body>\n",
       "</html>"
      ]
     },
     "execution_count": 41,
     "metadata": {},
     "output_type": "execute_result"
    }
   ],
   "source": [
    "f = open('./test_page.html', 'r', encoding='utf-8')\n",
    "soup = BeautifulSoup(f, 'lxml')\n",
    "soup"
   ]
  },
  {
   "cell_type": "code",
   "execution_count": 42,
   "metadata": {},
   "outputs": [
    {
     "data": {
      "text/plain": [
       "<p>百里守约</p>"
      ]
     },
     "execution_count": 42,
     "metadata": {},
     "output_type": "execute_result"
    }
   ],
   "source": [
    "soup.p"
   ]
  },
  {
   "cell_type": "code",
   "execution_count": 44,
   "metadata": {},
   "outputs": [
    {
     "data": {
      "text/plain": [
       "<p>百里守约</p>"
      ]
     },
     "execution_count": 44,
     "metadata": {},
     "output_type": "execute_result"
    }
   ],
   "source": [
    "soup.div.p"
   ]
  },
  {
   "cell_type": "code",
   "execution_count": 7,
   "metadata": {},
   "outputs": [
    {
     "data": {
      "text/plain": [
       "<a href=\"http://www.song.com/\" target=\"_self\" title=\"赵匡胤\">\n",
       "<span>this is span</span>\n",
       "        宋朝是最强大的王朝，不是军队的强大，而是经济很强大，国民都很有钱</a>"
      ]
     },
     "execution_count": 7,
     "metadata": {},
     "output_type": "execute_result"
    }
   ],
   "source": [
    "soup.a"
   ]
  },
  {
   "cell_type": "code",
   "execution_count": 10,
   "metadata": {},
   "outputs": [
    {
     "data": {
      "text/plain": [
       "'赵匡胤'"
      ]
     },
     "execution_count": 10,
     "metadata": {},
     "output_type": "execute_result"
    }
   ],
   "source": [
    "soup.a.attrs\n",
    "soup.a.attrs[\"title\"]"
   ]
  },
  {
   "cell_type": "code",
   "execution_count": 11,
   "metadata": {},
   "outputs": [
    {
     "data": {
      "text/plain": [
       "'赵匡胤'"
      ]
     },
     "execution_count": 11,
     "metadata": {},
     "output_type": "execute_result"
    }
   ],
   "source": [
    "soup.a[\"title\"]"
   ]
  },
  {
   "cell_type": "code",
   "execution_count": 13,
   "metadata": {},
   "outputs": [
    {
     "data": {
      "text/plain": [
       "'百里守约'"
      ]
     },
     "execution_count": 13,
     "metadata": {},
     "output_type": "execute_result"
    }
   ],
   "source": [
    "soup.p.string"
   ]
  },
  {
   "cell_type": "code",
   "execution_count": 14,
   "metadata": {},
   "outputs": [
    {
     "data": {
      "text/plain": [
       "'百里守约'"
      ]
     },
     "execution_count": 14,
     "metadata": {},
     "output_type": "execute_result"
    }
   ],
   "source": [
    "soup.p.text"
   ]
  },
  {
   "cell_type": "code",
   "execution_count": 15,
   "metadata": {},
   "outputs": [
    {
     "data": {
      "text/plain": [
       "'百里守约'"
      ]
     },
     "execution_count": 15,
     "metadata": {},
     "output_type": "execute_result"
    }
   ],
   "source": [
    "soup.p.get_text()"
   ]
  },
  {
   "cell_type": "code",
   "execution_count": 16,
   "metadata": {},
   "outputs": [
    {
     "data": {
      "text/plain": [
       "<a href=\"http://www.song.com/\" target=\"_self\" title=\"赵匡胤\">\n",
       "<span>this is span</span>\n",
       "        宋朝是最强大的王朝，不是军队的强大，而是经济很强大，国民都很有钱</a>"
      ]
     },
     "execution_count": 16,
     "metadata": {},
     "output_type": "execute_result"
    }
   ],
   "source": [
    "soup.find('a')"
   ]
  },
  {
   "cell_type": "code",
   "execution_count": 48,
   "metadata": {},
   "outputs": [
    {
     "data": {
      "text/plain": [
       "<div class=\"song\">\n",
       "<p>李清照</p>\n",
       "<p>王安石</p>\n",
       "<p>苏轼</p>\n",
       "<p>柳宗元</p>\n",
       "<a href=\"http://www.song.com/\" target=\"_self\" title=\"赵匡胤\">\n",
       "<span>this is span</span>\n",
       "        宋朝是最强大的王朝，不是军队的强大，而是经济很强大，国民都很有钱</a>\n",
       "<a class=\"du\" href=\"\">总为浮云能蔽日,长安不见使人愁</a>\n",
       "<img alt=\"\" src=\"http://www.baidu.com/meinv.jpg\"/>\n",
       "</div>"
      ]
     },
     "execution_count": 48,
     "metadata": {},
     "output_type": "execute_result"
    }
   ],
   "source": [
    "soup.find(\"div\", class_=\"song\")"
   ]
  },
  {
   "cell_type": "code",
   "execution_count": 20,
   "metadata": {},
   "outputs": [
    {
     "data": {
      "text/plain": [
       "'总为浮云能蔽日,长安不见使人愁'"
      ]
     },
     "execution_count": 20,
     "metadata": {},
     "output_type": "execute_result"
    }
   ],
   "source": [
    "soup.find('a', class_=\"du\")"
   ]
  },
  {
   "cell_type": "code",
   "execution_count": 23,
   "metadata": {},
   "outputs": [],
   "source": [
    "soup.find(\"div\", class_=\"song\").string"
   ]
  },
  {
   "cell_type": "code",
   "execution_count": 24,
   "metadata": {},
   "outputs": [
    {
     "data": {
      "text/plain": [
       "'\\n李清照\\n王安石\\n苏轼\\n柳宗元\\n\\nthis is span\\n        宋朝是最强大的王朝，不是军队的强大，而是经济很强大，国民都很有钱\\n总为浮云能蔽日,长安不见使人愁\\n\\n'"
      ]
     },
     "execution_count": 24,
     "metadata": {},
     "output_type": "execute_result"
    }
   ],
   "source": [
    "soup.find(\"div\", class_=\"song\").text"
   ]
  },
  {
   "cell_type": "code",
   "execution_count": 25,
   "metadata": {},
   "outputs": [
    {
     "data": {
      "text/plain": [
       "'\\n李清照\\n王安石\\n苏轼\\n柳宗元\\n\\nthis is span\\n        宋朝是最强大的王朝，不是军队的强大，而是经济很强大，国民都很有钱\\n总为浮云能蔽日,长安不见使人愁\\n\\n'"
      ]
     },
     "execution_count": 25,
     "metadata": {},
     "output_type": "execute_result"
    }
   ],
   "source": [
    "soup.find(\"div\", class_=\"song\").get_text()"
   ]
  },
  {
   "cell_type": "code",
   "execution_count": 26,
   "metadata": {},
   "outputs": [
    {
     "data": {
      "text/plain": [
       "[<a href=\"http://www.song.com/\" target=\"_self\" title=\"赵匡胤\">\n",
       " <span>this is span</span>\n",
       "         宋朝是最强大的王朝，不是军队的强大，而是经济很强大，国民都很有钱</a>,\n",
       " <a class=\"du\" href=\"\">总为浮云能蔽日,长安不见使人愁</a>,\n",
       " <a href=\"http://www.baidu.com\" title=\"qing\">清明时节雨纷纷,路上行人欲断魂,借问酒家何处有,牧童遥指杏花村</a>,\n",
       " <a href=\"http://www.163.com\" title=\"qin\">秦时明月汉时关,万里长征人未还,但使龙城飞将在,不教胡马度阴山</a>,\n",
       " <a alt=\"qi\" href=\"http://www.126.com\">岐王宅里寻常见,崔九堂前几度闻,正是江南好风景,落花时节又逢君</a>,\n",
       " <a class=\"du\" href=\"http://www.sina.com\">杜甫</a>,\n",
       " <a class=\"du\" href=\"http://www.dudu.com\">杜牧</a>,\n",
       " <a href=\"http://www.haha.com\" id=\"feng\">凤凰台上凤凰游,凤去台空江自流,吴宫花草埋幽径,晋代衣冠成古丘</a>]"
      ]
     },
     "execution_count": 26,
     "metadata": {},
     "output_type": "execute_result"
    }
   ],
   "source": [
    "soup.find_all('a')"
   ]
  },
  {
   "cell_type": "code",
   "execution_count": 27,
   "metadata": {},
   "outputs": [
    {
     "data": {
      "text/plain": [
       "[<p>百里守约</p>, <p>李清照</p>, <p>王安石</p>, <p>苏轼</p>, <p>柳宗元</p>]"
      ]
     },
     "execution_count": 27,
     "metadata": {},
     "output_type": "execute_result"
    }
   ],
   "source": [
    "soup.find_all('p')"
   ]
  },
  {
   "cell_type": "code",
   "execution_count": 29,
   "metadata": {},
   "outputs": [
    {
     "data": {
      "text/plain": [
       "[<p>百里守约</p>,\n",
       " <p>李清照</p>,\n",
       " <p>王安石</p>,\n",
       " <p>苏轼</p>,\n",
       " <p>柳宗元</p>,\n",
       " <a href=\"http://www.song.com/\" target=\"_self\" title=\"赵匡胤\">\n",
       " <span>this is span</span>\n",
       "         宋朝是最强大的王朝，不是军队的强大，而是经济很强大，国民都很有钱</a>,\n",
       " <a class=\"du\" href=\"\">总为浮云能蔽日,长安不见使人愁</a>,\n",
       " <a href=\"http://www.baidu.com\" title=\"qing\">清明时节雨纷纷,路上行人欲断魂,借问酒家何处有,牧童遥指杏花村</a>,\n",
       " <a href=\"http://www.163.com\" title=\"qin\">秦时明月汉时关,万里长征人未还,但使龙城飞将在,不教胡马度阴山</a>,\n",
       " <a alt=\"qi\" href=\"http://www.126.com\">岐王宅里寻常见,崔九堂前几度闻,正是江南好风景,落花时节又逢君</a>,\n",
       " <a class=\"du\" href=\"http://www.sina.com\">杜甫</a>,\n",
       " <a class=\"du\" href=\"http://www.dudu.com\">杜牧</a>,\n",
       " <a href=\"http://www.haha.com\" id=\"feng\">凤凰台上凤凰游,凤去台空江自流,吴宫花草埋幽径,晋代衣冠成古丘</a>]"
      ]
     },
     "execution_count": 29,
     "metadata": {},
     "output_type": "execute_result"
    }
   ],
   "source": [
    "soup.find_all(['a', 'p'])"
   ]
  },
  {
   "cell_type": "code",
   "execution_count": 30,
   "metadata": {},
   "outputs": [
    {
     "data": {
      "text/plain": [
       "[<div class=\"tang\">\n",
       " <ul>\n",
       " <li><a href=\"http://www.baidu.com\" title=\"qing\">清明时节雨纷纷,路上行人欲断魂,借问酒家何处有,牧童遥指杏花村</a></li>\n",
       " <li><a href=\"http://www.163.com\" title=\"qin\">秦时明月汉时关,万里长征人未还,但使龙城飞将在,不教胡马度阴山</a></li>\n",
       " <li><a alt=\"qi\" href=\"http://www.126.com\">岐王宅里寻常见,崔九堂前几度闻,正是江南好风景,落花时节又逢君</a></li>\n",
       " <li><a class=\"du\" href=\"http://www.sina.com\">杜甫</a></li>\n",
       " <li><a class=\"du\" href=\"http://www.dudu.com\">杜牧</a></li>\n",
       " <li><b>杜小月</b></li>\n",
       " <li><i>度蜜月</i></li>\n",
       " <li><a href=\"http://www.haha.com\" id=\"feng\">凤凰台上凤凰游,凤去台空江自流,吴宫花草埋幽径,晋代衣冠成古丘</a></li>\n",
       " </ul>\n",
       " </div>]"
      ]
     },
     "execution_count": 30,
     "metadata": {},
     "output_type": "execute_result"
    }
   ],
   "source": [
    "soup.select('.tang')"
   ]
  },
  {
   "cell_type": "code",
   "execution_count": 32,
   "metadata": {},
   "outputs": [
    {
     "data": {
      "text/plain": [
       "[<li><a href=\"http://www.baidu.com\" title=\"qing\">清明时节雨纷纷,路上行人欲断魂,借问酒家何处有,牧童遥指杏花村</a></li>,\n",
       " <li><a href=\"http://www.163.com\" title=\"qin\">秦时明月汉时关,万里长征人未还,但使龙城飞将在,不教胡马度阴山</a></li>,\n",
       " <li><a alt=\"qi\" href=\"http://www.126.com\">岐王宅里寻常见,崔九堂前几度闻,正是江南好风景,落花时节又逢君</a></li>,\n",
       " <li><a class=\"du\" href=\"http://www.sina.com\">杜甫</a></li>,\n",
       " <li><a class=\"du\" href=\"http://www.dudu.com\">杜牧</a></li>,\n",
       " <li><b>杜小月</b></li>,\n",
       " <li><i>度蜜月</i></li>,\n",
       " <li><a href=\"http://www.haha.com\" id=\"feng\">凤凰台上凤凰游,凤去台空江自流,吴宫花草埋幽径,晋代衣冠成古丘</a></li>]"
      ]
     },
     "execution_count": 32,
     "metadata": {},
     "output_type": "execute_result"
    }
   ],
   "source": [
    "soup.select('.tang > ul > li')"
   ]
  },
  {
   "cell_type": "code",
   "execution_count": 33,
   "metadata": {},
   "outputs": [
    {
     "data": {
      "text/plain": [
       "[<li><a href=\"http://www.baidu.com\" title=\"qing\">清明时节雨纷纷,路上行人欲断魂,借问酒家何处有,牧童遥指杏花村</a></li>,\n",
       " <li><a href=\"http://www.163.com\" title=\"qin\">秦时明月汉时关,万里长征人未还,但使龙城飞将在,不教胡马度阴山</a></li>,\n",
       " <li><a alt=\"qi\" href=\"http://www.126.com\">岐王宅里寻常见,崔九堂前几度闻,正是江南好风景,落花时节又逢君</a></li>,\n",
       " <li><a class=\"du\" href=\"http://www.sina.com\">杜甫</a></li>,\n",
       " <li><a class=\"du\" href=\"http://www.dudu.com\">杜牧</a></li>,\n",
       " <li><b>杜小月</b></li>,\n",
       " <li><i>度蜜月</i></li>,\n",
       " <li><a href=\"http://www.haha.com\" id=\"feng\">凤凰台上凤凰游,凤去台空江自流,吴宫花草埋幽径,晋代衣冠成古丘</a></li>]"
      ]
     },
     "execution_count": 33,
     "metadata": {},
     "output_type": "execute_result"
    }
   ],
   "source": [
    "soup.select('.tang li')"
   ]
  },
  {
   "cell_type": "code",
   "execution_count": 37,
   "metadata": {},
   "outputs": [],
   "source": [
    "# 需求：使用bs4实现将诗词名句网站中三国演义小说的每一章的内容爬取到本地磁盘进行存储\n",
    "import requests\n",
    "from bs4 import BeautifulSoup\n",
    "\n",
    "# 1.指定URL(顺带加上UA伪装)\n",
    "url = \"http://www.shicimingju.com/book/sanguoyanyi.html\"\n",
    "headers = {\n",
    "    \"User-Agent\": \"Mozilla/5.0 (Windows NT 10.0; Win64; x64) AppleWebKit/537.36 (KHTML, like Gecko) Chrome/73.0.3683.75 Safari/537.36\"\n",
    "}\n",
    "\n",
    "# 2.使用requests发起请求\n",
    "response = requests.get(url=url, headers=headers)\n",
    "\n",
    "# 3.获取响应数据\n",
    "# 获取到的是标题页的页面源码数据\n",
    "page_text = response.text\n",
    "\n",
    "# 4.数据解析\n",
    "# 实例化一个BeautifulSoup对象\n",
    "soup = BeautifulSoup(page_text, 'lxml')\n",
    "# 使用该对象的相关属性和方法进行数据解析和文本的提取\n",
    "li_list = soup.select('.book-mulu li')\n",
    "\n",
    "f = open('./sanguo.txt', 'w', encoding='utf-8')\n",
    "for li in li_list:\n",
    "    name = li.a.text\n",
    "    detail_url = \"http://www.shicimingju.com\" + li.a[\"href\"]\n",
    "    \n",
    "    # 获取到的是详情页的页面源码数据\n",
    "    detail_page_text = requests.get(url=detail_url, headers=headers).text\n",
    "    \n",
    "    # 我们需要重新实例化一个详情页的BeautifulSoup对象，再进行数据解析\n",
    "    detail_soup = BeautifulSoup(detail_page_text, \"lxml\")\n",
    "    content = detail_soup.find('div', class_=\"chapter_content\").get_text()\n",
    "\n",
    "    # 5.持久化存储\n",
    "    f.write(name + \":\" + content + \"\\n\")\n",
    "\n",
    "f.close()"
   ]
  },
  {
   "cell_type": "code",
   "execution_count": null,
   "metadata": {},
   "outputs": [],
   "source": []
  },
  {
   "cell_type": "code",
   "execution_count": null,
   "metadata": {},
   "outputs": [],
   "source": []
  },
  {
   "cell_type": "code",
   "execution_count": null,
   "metadata": {},
   "outputs": [],
   "source": []
  }
 ],
 "metadata": {
  "kernelspec": {
   "display_name": "Python 3",
   "language": "python",
   "name": "python3"
  },
  "language_info": {
   "codemirror_mode": {
    "name": "ipython",
    "version": 3
   },
   "file_extension": ".py",
   "mimetype": "text/x-python",
   "name": "python",
   "nbconvert_exporter": "python",
   "pygments_lexer": "ipython3",
   "version": "3.6.5"
  }
 },
 "nbformat": 4,
 "nbformat_minor": 2
}
