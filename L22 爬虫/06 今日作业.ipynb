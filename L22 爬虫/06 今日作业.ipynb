{
 "cells": [
  {
   "cell_type": "markdown",
   "metadata": {},
   "source": [
    "- 今日作业:\n",
    "\n",
    "- 1. 爬取任意城市的肯德基餐厅的位置信息\n",
    "- 2. 爬取国家药品监督管理总局中基于中华人民共和国化妆品生产许可证相关数据http://125.35.6.84:81/xk/\n",
    "- 3. 使用bs4爬取史书典籍上面的所有文章内容http://www.shicimingju.com/book/index.html\n",
    "- 4. 使用xpath爬取58二手房惠州的房源信息\n",
    "- 5. 爬取站长素材中免费的简历模板http://sc.chinaz.com/jianli/free.html"
   ]
  }
 ],
 "metadata": {
  "kernelspec": {
   "display_name": "Python 3",
   "language": "python",
   "name": "python3"
  },
  "language_info": {
   "codemirror_mode": {
    "name": "ipython",
    "version": 3
   },
   "file_extension": ".py",
   "mimetype": "text/x-python",
   "name": "python",
   "nbconvert_exporter": "python",
   "pygments_lexer": "ipython3",
   "version": "3.6.5"
  }
 },
 "nbformat": 4,
 "nbformat_minor": 2
}
