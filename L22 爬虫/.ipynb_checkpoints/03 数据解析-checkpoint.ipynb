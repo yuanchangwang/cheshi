{
 "cells": [
  {
   "cell_type": "markdown",
   "metadata": {},
   "source": [
    "### 如何实现聚焦爬虫(数据解析)\n",
    "- 聚焦爬虫的编码流程\n",
    "    1. 指定url\n",
    "    2. 基于requests模块发起请求\n",
    "    3. 获取响应对象中的数据\n",
    "    4. 数据解析\n",
    "    5. 进行持久化存储\n",
    "\n",
    "### 如何实现数据解析\n",
    "- 三种数据解析方式\n",
    "    - 正则表达式\n",
    "    - bs4\n",
    "    - xpath\n",
    "\n",
    "### 数据解析的原理\n",
    "    - 进行标签定位\n",
    "    - 获取定位好的标签里面的文本数据和属性值"
   ]
  },
  {
   "cell_type": "code",
   "execution_count": 2,
   "metadata": {},
   "outputs": [],
   "source": [
    "# 如何爬取一张图片(使用requests模块)\n",
    "import requests\n",
    "\n",
    "\n",
    "# 1. 指定url\n",
    "url = \"http://mpic.spriteapp.cn/ugc/2019/09/01/5d6be8e4396c4.gif\"\n",
    "headers = {\n",
    "    \"User-Agent\": \"Mozilla/5.0 (Windows NT 10.0; Win64; x64) AppleWebKit/537.36 (KHTML, like Gecko) Chrome/73.0.3683.75 Safari/537.36\"\n",
    "}\n",
    "\n",
    "# 2. 基于requests模块发起请求\n",
    "# 3. 获取响应对象中的数据\n",
    "page_content = requests.get(url=url, headers=headers).content\n",
    "\n",
    "# 4. 进行持久化存储\n",
    "with open('./火狐突击.gif', 'wb') as f:\n",
    "    f.write(page_content)"
   ]
  },
  {
   "cell_type": "code",
   "execution_count": 3,
   "metadata": {},
   "outputs": [
    {
     "data": {
      "text/plain": [
       "('./huohu.gif', <http.client.HTTPMessage at 0x1eeefcc5390>)"
      ]
     },
     "execution_count": 3,
     "metadata": {},
     "output_type": "execute_result"
    }
   ],
   "source": [
    "# 使用urllib模块下载图片，代码量比较少\n",
    "# 有一个缺点，如果有些网站有UA检测机制的话，此方法就不适用\n",
    "from urllib import request\n",
    "\n",
    "url = \"http://mpic.spriteapp.cn/ugc/2019/09/01/5d6be8e4396c4.gif\"\n",
    "request.urlretrieve(url=url, filename='./huohu.gif')"
   ]
  },
  {
   "cell_type": "code",
   "execution_count": null,
   "metadata": {},
   "outputs": [],
   "source": [
    "# 正则表达式测试\n",
    "html = \"\"\"\n",
    "<div class=\"j-r-list-c-img\">\n",
    "        \n",
    "     <a href=\"/detail-29752617.html\">\n",
    "        <img src=\"http://mstatic.spriteapp.cn/xx/1/w3/img/lazyload/default.png\" class=\"lazy\" data-original=\"http://mpic.spriteapp.cn/ugc/2019/09/04/5d6fabfbdbc01.gif\" title=\"这谁受得住啊？\" alt=\"这谁受得住啊？\">\n",
    "   </a> \n",
    "\n",
    "</div>\n",
    "\"\"\"\n",
    "\n",
    "import re\n",
    "ex = '<div class=\"j-r-list-c-img\">.*?data-original=\"(.*?)\" title=\".*?</div>'\n",
    "\n",
    "# re.S表示单行匹配，可以将字符串中的多行拼接起来，进行统一匹配，如果不加，则会一行一行地进行匹配\n",
    "img_url = re.findall(ex, html, re.S)\n",
    "print(img_url])"
   ]
  },
  {
   "cell_type": "code",
   "execution_count": 9,
   "metadata": {},
   "outputs": [],
   "source": [
    "# 爬取不得姐网站上面的所有图片\n",
    "import os\n",
    "import re\n",
    "import requests\n",
    "from urllib import request\n",
    "\n",
    "# 1. 指定url\n",
    "url = \"http://www.budejie.com/pic/\"\n",
    "headers = {\n",
    "    \"User-Agent\": \"Mozilla/5.0 (Windows NT 10.0; Win64; x64) AppleWebKit/537.36 (KHTML, like Gecko) Chrome/73.0.3683.75 Safari/537.36\"\n",
    "}\n",
    "ex = '<div class=\"j-r-list-c-img\">.*?data-original=\"(.*?)\" title=\".*?</div>'\n",
    "\n",
    "# 判断是否有images文件存在，如果不存在，就创建一个新的，用来存储图片\n",
    "if not os.path.exists('./images'):\n",
    "    os.mkdir('./images')\n",
    "\n",
    "# 2. 基于requests模块发起请求\n",
    "# 3. 获取响应对象中的数据\n",
    "page_text = requests.get(url=url, headers=headers).text\n",
    "\n",
    "# 4. 数据解析\n",
    "img_u./imagesrl_list = re.findall(ex, page_text, re.S)\n",
    "\n",
    "# 5. 进行持久化存储\n",
    "for img_url in img_url_list:\n",
    "    img_name = './images/' + img_url.split('/')[-1]\n",
    "    # 获取到图片的url之后，接下来进行图片的存储\n",
    "    request.urlretrieve(url=img_url, filename=img_name)"
   ]
  },
  {
   "cell_type": "code",
   "execution_count": null,
   "metadata": {},
   "outputs": [],
   "source": []
  }
 ],
 "metadata": {
  "kernelspec": {
   "display_name": "Python 3",
   "language": "python",
   "name": "python3"
  },
  "language_info": {
   "codemirror_mode": {
    "name": "ipython",
    "version": 3
   },
   "file_extension": ".py",
   "mimetype": "text/x-python",
   "name": "python",
   "nbconvert_exporter": "python",
   "pygments_lexer": "ipython3",
   "version": "3.6.5"
  }
 },
 "nbformat": 4,
 "nbformat_minor": 2
}
