{
 "cells": [
  {
   "cell_type": "markdown",
   "metadata": {},
   "source": [
    "### jupyter的基本使用\n",
    "    \n",
    "- 创建cell： a和b\n",
    "- 删除cell: x和dd\n",
    "- 切换模式:  y和m(代码和markdown模式的切换)\n",
    "- 执行cell： shift + enter\n",
    "- 查看帮助信息: shift + Tab\n",
    "- 补全代码信息: Tab\n"
   ]
  },
  {
   "cell_type": "code",
   "execution_count": 4,
   "metadata": {},
   "outputs": [],
   "source": [
    "import sys"
   ]
  },
  {
   "cell_type": "markdown",
   "metadata": {},
   "source": [
    "### 爬虫\n",
    "\n",
    "    爬虫就是通过编写程序模拟浏览器上网，然后让其去互联网上抓取数据的过程。\n",
    "\n",
    "### 爬虫的分类\n",
    "\n",
    "- 通用爬虫 爬取一整张页面的数据, 就是搜索引擎抓取系统的一个重要组成部分\n",
    "- 聚焦爬虫 建立在通用爬虫的基础上(数据解析(正则, BeautifulSoup4, xpath))\n",
    "- 增量式爬虫 实时监测网络上的数据,只爬取更新的数据\n",
    "\n",
    "### 反爬机制\n",
    "\n",
    "- robots.txt协议 文本协议, 防君子不防小人\n",
    "- User-Agent检测(User-Agent就是请求载体的身份标识)\n",
    "\n",
    "### 反反爬策略\n",
    "- 使用相关的技术手段来破解相关反爬机制\n",
    "\n",
    "\n",
    "# 协议\n",
    "\n",
    "- robots.txt协议\n",
    "\n",
    "- 请求头协议\n",
    "    - User-Agent: 请求载体的身份标识\n",
    "    - Connection: close\n",
    "- 响应头\n",
    "    - Content-Type: 响应数据类型\n",
    "    \n",
    "### fidder抓包工具\n",
    "\n",
    "### HTTP和HTTPS\n",
    "    安全加密方式:\n",
    "        对称密钥加密: 客户端加密的数据和密钥一并发给服务器端(缺点是数据和密钥会被截获)\n",
    "        非对称密钥加密:服务端生成公私钥,把公钥发给客户端,客户端使用公钥加密数据,发送给服务端,服务端用私钥解密(缺点是公钥无法验证真伪)\n",
    "        证书密钥加密: 在非对称密钥加密的基础上,通过第三方证书认证机构对公钥进行数字签名(能够验证公钥真伪)\n"
   ]
  },
  {
   "cell_type": "code",
   "execution_count": null,
   "metadata": {},
   "outputs": [],
   "source": []
  }
 ],
 "metadata": {
  "kernelspec": {
   "display_name": "Python 3",
   "language": "python",
   "name": "python3"
  },
  "language_info": {
   "codemirror_mode": {
    "name": "ipython",
    "version": 3
   },
   "file_extension": ".py",
   "mimetype": "text/x-python",
   "name": "python",
   "nbconvert_exporter": "python",
   "pygments_lexer": "ipython3",
   "version": "3.6.5"
  }
 },
 "nbformat": 4,
 "nbformat_minor": 2
}
